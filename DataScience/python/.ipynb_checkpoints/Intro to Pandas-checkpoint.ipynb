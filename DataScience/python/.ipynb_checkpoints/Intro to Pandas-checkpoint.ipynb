{
 "cells": [
  {
   "cell_type": "code",
   "execution_count": 9,
   "id": "b7c4c7e6",
   "metadata": {},
   "outputs": [],
   "source": [
    "import pandas as pd\n",
    "import numpy as np"
   ]
  },
  {
   "cell_type": "code",
   "execution_count": 27,
   "id": "7c1d9613",
   "metadata": {},
   "outputs": [
    {
     "name": "stdout",
     "output_type": "stream",
     "text": [
      "<PandasArray>\n",
      "[193, 182, 171, 187, 178, 175, 182, 191, 193, 175, 178, 187, 185, 181, 179,\n",
      " 189, 190, 188, 170, 182, 177, 171, 170, 175, 190, 176, 180, 188, 181, 188,\n",
      " 179, 171, 177, 173, 186, 186, 181, 175, 176, 187, 190, 187, 174, 192, 193,\n",
      " 179, 172, 183, 178, 177, 182, 171, 190, 184, 193, 185, 186, 170, 181, 187,\n",
      " 174, 174, 184, 175, 176, 174, 180, 178, 172, 189, 185, 174, 185, 180, 176,\n",
      " 185, 187, 179, 173, 172, 183, 181, 188, 173, 184, 181, 186, 193, 192, 186,\n",
      " 179, 190, 189, 189, 181, 179, 187, 171, 179]\n",
      "Length: 99, dtype: int64\n"
     ]
    }
   ],
   "source": [
    "data=pd.read_csv('data\\president_heights.csv')\n",
    "heights=pd.array(data['height(cm)'])\n",
    "print(heights)"
   ]
  },
  {
   "cell_type": "code",
   "execution_count": 29,
   "id": "1de88583",
   "metadata": {},
   "outputs": [
    {
     "name": "stdout",
     "output_type": "stream",
     "text": [
      "Mean height:      181.41414141414143\n",
      "Standard deviation:      6.651699339435521\n",
      "Minimum height:      170\n",
      "Max height:      193\n"
     ]
    }
   ],
   "source": [
    "print (\"Mean height:     \",heights.mean())## average\n",
    "print (\"Standard deviation:     \",heights.std())## distance from mean\n",
    "print (\"Minimum height:     \",heights.min())\n",
    "print (\"Max height:     \",heights.max())"
   ]
  },
  {
   "cell_type": "code",
   "execution_count": 30,
   "id": "294d2a70",
   "metadata": {},
   "outputs": [
    {
     "name": "stdout",
     "output_type": "stream",
     "text": [
      "25th percentile:     176.0\n",
      "median:              181.0\n",
      "75th percentile:     187.0\n"
     ]
    }
   ],
   "source": [
    "print (\"25th percentile:    \",np.percentile(heights,25))##meaning that 25% of the presidente height is x or lower.\n",
    "print (\"median:             \",np.median(heights)) ##The median is the middle number in a sorted\n",
    "print (\"75th percentile:    \",np.percentile(heights,75))"
   ]
  },
  {
   "cell_type": "code",
   "execution_count": 25,
   "id": "643a62c4",
   "metadata": {},
   "outputs": [],
   "source": [
    "import matplotlib.pyplot as plt\n",
    "import seaborn;seaborn.set() ##set plot style"
   ]
  },
  {
   "cell_type": "code",
   "execution_count": 32,
   "id": "d703aec3",
   "metadata": {},
   "outputs": [
    {
     "data": {
      "text/plain": [
       "Text(0, 0.5, 'number')"
      ]
     },
     "execution_count": 32,
     "metadata": {},
     "output_type": "execute_result"
    },
    {
     "data": {
      "image/png": "[encoded data removed]",
      "text/plain": [
       "<Figure size 640x480 with 1 Axes>"
      ]
     },
     "metadata": {},
     "output_type": "display_data"
    }
   ],
   "source": [
    "plt.hist(heights)\n",
    "plt.title('Heigh Distribution of US Presidentes')\n",
    "plt.xlabel('height (cm)')\n",
    "plt.ylabel('number')"
   ]
  },
  {
   "cell_type": "code",
   "execution_count": null,
   "id": "1ef2372b",
   "metadata": {},
   "outputs": [],
   "source": []
  }
 ],
 "metadata": {
  "kernelspec": {
   "display_name": "Python 3 (ipykernel)",
   "language": "python",
   "name": "python3"
  },
  "language_info": {
   "codemirror_mode": {
    "name": "ipython",
    "version": 3
   },
   "file_extension": ".py",
   "mimetype": "text/x-python",
   "name": "python",
   "nbconvert_exporter": "python",
   "pygments_lexer": "ipython3",
   "version": "3.9.13"
  }
 },
 "nbformat": 4,
 "nbformat_minor": 5
}
