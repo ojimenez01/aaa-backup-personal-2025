{
 "cells": [
  {
   "cell_type": "code",
   "execution_count": 2,
   "id": "573c72f1",
   "metadata": {},
   "outputs": [],
   "source": [
    "\n",
    "#This describes is an optimiser used in module 0b\n",
    "#This hard codes some things to make the example code simple. In a normal\n",
    "#situation there would be many more options and nothing hard coded\n",
    "\n",
    "import numpy as np\n",
    "\n",
    "class MyOptimizer:\n",
    "\n",
    "    def calculate_gradient(self, model_input, diff):\n",
    "        #\"\"\"\n",
    "        #This calculates gradient for a linear regession \n",
    "        #using the SSD cost function:\n",
    "        #cost = sum((predicted - actual)^2)\n",
    "        #\"\"\"\n",
    "\n",
    "        # The partial derivatives of SSD are as follows\n",
    "        # You don't need to be able to do this just yet but\n",
    "        # it is important to note these give you the two gradients\n",
    "        # that we need to train our model\n",
    "        grad_slope = (diff * model_input).sum() * 2\n",
    "        grad_intercept = diff.sum() * 2\n",
    "        return grad_intercept, grad_slope\n",
    "\n",
    "\n",
    "    def get_parameter_updates(self, model_inputs, cost, diff):\n",
    "\n",
    "        # Calculate the gradient\n",
    "        grad_intercept, grad_slope = self.calculate_gradient(model_inputs, diff)\n",
    "\n",
    "        # Update the estimation of the line\n",
    "        # We have hard coded some learning rates here\n",
    "        # to keep things simple\n",
    "        slope_update =     -grad_slope / 1000 / 2100 #5E6\n",
    "        intercept_update = -grad_intercept / 1000 / 2100#5E6\n",
    "\n",
    "        return intercept_update, slope_update "
   ]
  },
  {
   "cell_type": "code",
   "execution_count": 3,
   "id": "8d87ea96",
   "metadata": {},
   "outputs": [
    {
     "ename": "NameError",
     "evalue": "name 'calculate_gradient' is not defined",
     "output_type": "error",
     "traceback": [
      "\u001b[1;31m---------------------------------------------------------------------------\u001b[0m",
      "\u001b[1;31mNameError\u001b[0m                                 Traceback (most recent call last)",
      "\u001b[1;32m~\\AppData\\Local\\Temp\\ipykernel_21092\\3109788902.py\u001b[0m in \u001b[0;36m<module>\u001b[1;34m\u001b[0m\n\u001b[1;32m----> 1\u001b[1;33m \u001b[0mcalculate_gradient\u001b[0m\u001b[1;33m(\u001b[0m\u001b[1;36m3\u001b[0m\u001b[1;33m,\u001b[0m\u001b[1;36m4\u001b[0m\u001b[1;33m,\u001b[0m\u001b[1;36m5\u001b[0m\u001b[1;33m)\u001b[0m\u001b[1;33m\u001b[0m\u001b[1;33m\u001b[0m\u001b[0m\n\u001b[0m",
      "\u001b[1;31mNameError\u001b[0m: name 'calculate_gradient' is not defined"
     ]
    }
   ],
   "source": [
    "calculate_gradient(3,4,5)"
   ]
  },
  {
   "cell_type": "code",
   "execution_count": null,
   "id": "bd15876f",
   "metadata": {},
   "outputs": [],
   "source": []
  }
 ],
 "metadata": {
  "kernelspec": {
   "display_name": "Python 3 (ipykernel)",
   "language": "python",
   "name": "python3"
  },
  "language_info": {
   "codemirror_mode": {
    "name": "ipython",
    "version": 3
   },
   "file_extension": ".py",
   "mimetype": "text/x-python",
   "name": "python",
   "nbconvert_exporter": "python",
   "pygments_lexer": "ipython3",
   "version": "3.9.13"
  }
 },
 "nbformat": 4,
 "nbformat_minor": 5
}
