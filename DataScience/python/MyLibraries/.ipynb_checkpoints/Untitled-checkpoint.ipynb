{
 "cells": [
  {
   "cell_type": "code",
   "execution_count": 10,
   "id": "d438de5c",
   "metadata": {},
   "outputs": [],
   "source": [
    "def suma(nombre,x,y,z):\n",
    "    return \"Hola {name} la suma es\".format(name=nombre),x+y+z\n",
    "\n",
    "\n"
   ]
  },
  {
   "cell_type": "code",
   "execution_count": 11,
   "id": "946eda10",
   "metadata": {},
   "outputs": [
    {
     "data": {
      "text/plain": [
       "('Hola oscar la suma es', 6)"
      ]
     },
     "execution_count": 11,
     "metadata": {},
     "output_type": "execute_result"
    }
   ],
   "source": [
    "suma('oscar',1,2,3)"
   ]
  },
  {
   "cell_type": "code",
   "execution_count": null,
   "id": "ef9bb344",
   "metadata": {},
   "outputs": [],
   "source": []
  }
 ],
 "metadata": {
  "kernelspec": {
   "display_name": "Python 3 (ipykernel)",
   "language": "python",
   "name": "python3"
  },
  "language_info": {
   "codemirror_mode": {
    "name": "ipython",
    "version": 3
   },
   "file_extension": ".py",
   "mimetype": "text/x-python",
   "name": "python",
   "nbconvert_exporter": "python",
   "pygments_lexer": "ipython3",
   "version": "3.9.13"
  }
 },
 "nbformat": 4,
 "nbformat_minor": 5
}
